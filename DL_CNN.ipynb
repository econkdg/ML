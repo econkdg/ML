{
 "cells": [
  {
   "cell_type": "markdown",
   "metadata": {
    "id": "5i03R7OQ_9-f"
   },
   "source": [
    "# **DL: CNN**"
   ]
  },
  {
   "cell_type": "markdown",
   "metadata": {},
   "source": [
    "## **lab: CNN with TensorFlow (MNIST)**"
   ]
  },
  {
   "cell_type": "markdown",
   "metadata": {
    "id": "Jq0bD-w4BpB9"
   },
   "source": [
    "Dong Gyun Ko <br/>\n",
    "last updated: july 6, 2022"
   ]
  },
  {
   "cell_type": "code",
   "execution_count": 1,
   "metadata": {
    "id": "qTnAqKAX_0NQ",
    "tags": []
   },
   "outputs": [],
   "source": [
    "# import library\n",
    "\n",
    "import tensorflow as tf\n",
    "import numpy as np\n",
    "import matplotlib.pyplot as plt"
   ]
  },
  {
   "cell_type": "markdown",
   "metadata": {
    "id": "48gUOXm5COLl"
   },
   "source": [
    "## **1. data**"
   ]
  },
  {
   "cell_type": "code",
   "execution_count": 2,
   "metadata": {
    "id": "v4jmMkfSA2_u"
   },
   "outputs": [],
   "source": [
    "# import MNIST training & test data\n",
    "\n",
    "mnist = tf.keras.datasets.mnist\n",
    "\n",
    "(train_x, train_y), (test_x, test_y) = mnist.load_data()\n",
    "\n",
    "train_x, test_x = train_x/255.0, test_x/255.0"
   ]
  },
  {
   "cell_type": "code",
   "execution_count": 3,
   "metadata": {
    "id": "4VrYwjzkiyUk"
   },
   "outputs": [],
   "source": [
    "train_x = train_x.reshape((train_x.shape[0], 28, 28, 1))\n",
    "test_x = test_x.reshape((test_x.shape[0], 28, 28, 1))"
   ]
  },
  {
   "cell_type": "markdown",
   "metadata": {},
   "source": [
    "## **2. CNN**"
   ]
  },
  {
   "cell_type": "markdown",
   "metadata": {
    "id": "Nx1frHIMDisD"
   },
   "source": [
    "### **2.1. training**"
   ]
  },
  {
   "cell_type": "code",
   "execution_count": 4,
   "metadata": {
    "id": "0zPaNI7PBDdd"
   },
   "outputs": [],
   "source": [
    "# CNN\n",
    "\n",
    "model = tf.keras.models.Sequential([tf.keras.layers.Conv2D(filters = 32, \n",
    "                                                           kernel_size = (3,3), \n",
    "                                                           activation = 'relu', \n",
    "                                                           padding = 'SAME', \n",
    "                                                           input_shape = (28, 28, 1)),\n",
    "    \n",
    "                                    tf.keras.layers.MaxPool2D((2,2)),\n",
    "    \n",
    "                                    tf.keras.layers.Conv2D(filters = 64, \n",
    "                                                           kernel_size = (3,3), \n",
    "                                                           activation = 'relu', \n",
    "                                                           padding = 'SAME', \n",
    "                                                           input_shape = (14, 14, 32)),\n",
    "    \n",
    "                                    tf.keras.layers.MaxPool2D((2,2)),\n",
    "    \n",
    "                                    tf.keras.layers.Flatten(),\n",
    "    \n",
    "                                    tf.keras.layers.Dense(units = 128, activation = 'relu'),\n",
    "    \n",
    "                                    tf.keras.layers.Dense(units = 10, activation = 'softmax')])"
   ]
  },
  {
   "cell_type": "code",
   "execution_count": 5,
   "metadata": {
    "id": "GR3uAwj_CsQl"
   },
   "outputs": [],
   "source": [
    "model.compile(optimizer = 'adam', loss = 'sparse_categorical_crossentropy', metrics = 'accuracy')"
   ]
  },
  {
   "cell_type": "code",
   "execution_count": 6,
   "metadata": {
    "id": "HSZGtGvCCzeT"
   },
   "outputs": [
    {
     "name": "stdout",
     "output_type": "stream",
     "text": [
      "Epoch 1/3\n",
      "1200/1200 [==============================] - 29s 24ms/step - loss: 0.1337 - accuracy: 0.9585\n",
      "Epoch 2/3\n",
      "1200/1200 [==============================] - 31s 26ms/step - loss: 0.0422 - accuracy: 0.9866\n",
      "Epoch 3/3\n",
      "1200/1200 [==============================] - 32s 27ms/step - loss: 0.0280 - accuracy: 0.9912\n"
     ]
    },
    {
     "data": {
      "text/plain": [
       "<keras.callbacks.History at 0x2593b29a6d0>"
      ]
     },
     "execution_count": 6,
     "metadata": {},
     "output_type": "execute_result"
    }
   ],
   "source": [
    "model.fit(train_x, train_y, batch_size = 50, epochs = 3)"
   ]
  },
  {
   "cell_type": "markdown",
   "metadata": {
    "id": "vt6DBllTlip3"
   },
   "source": [
    "### **2.2. testing or evaluating**"
   ]
  },
  {
   "cell_type": "code",
   "execution_count": 7,
   "metadata": {
    "id": "bVqmaO3Zlh8U"
   },
   "outputs": [
    {
     "name": "stdout",
     "output_type": "stream",
     "text": [
      "313/313 [==============================] - 2s 7ms/step - loss: 0.0350 - accuracy: 0.9882\n"
     ]
    }
   ],
   "source": [
    "test_loss, test_acc = model.evaluate(test_x, test_y)"
   ]
  },
  {
   "cell_type": "code",
   "execution_count": 8,
   "metadata": {
    "id": "9WYvDy39lqmb"
   },
   "outputs": [
    {
     "data": {
      "image/png": "[encoded data removed]",
      "text/plain": [
       "<Figure size 864x360 with 2 Axes>"
      ]
     },
     "metadata": {
      "needs_background": "light"
     },
     "output_type": "display_data"
    },
    {
     "name": "stdout",
     "output_type": "stream",
     "text": [
      "Prediction : 3\n"
     ]
    }
   ],
   "source": [
    "test_img = test_x[[1495]]\n",
    "\n",
    "predict = model.predict(test_img)\n",
    "mypred = np.argmax(predict, axis = 1)\n",
    "\n",
    "plt.figure(figsize = (12,5))\n",
    "\n",
    "plt.subplot(1,2,1)\n",
    "plt.imshow(test_img.reshape(28, 28), 'gray')\n",
    "plt.axis('off')\n",
    "plt.subplot(1,2,2)\n",
    "plt.stem(predict[0])\n",
    "plt.show()\n",
    "\n",
    "print('Prediction : {}'.format(mypred[0]))"
   ]
  },
  {
   "cell_type": "markdown",
   "metadata": {
    "id": "n67x9pOrEo9y"
   },
   "source": [
    "## **3. references**"
   ]
  },
  {
   "cell_type": "markdown",
   "metadata": {
    "id": "Fu4e-YesEtO5"
   },
   "source": [
    "* https://i-systems.github.io/teaching/DL/iNotes_tf2/07_CNN_tf2.html"
   ]
  }
 ],
 "metadata": {
  "colab": {
   "collapsed_sections": [],
   "name": "DL_CNN.ipynb",
   "private_outputs": true,
   "provenance": [],
   "toc_visible": true
  },
  "kernelspec": {
   "display_name": "Python 3 (ipykernel)",
   "language": "python",
   "name": "python3"
  },
  "language_info": {
   "codemirror_mode": {
    "name": "ipython",
    "version": 3
   },
   "file_extension": ".py",
   "mimetype": "text/x-python",
   "name": "python",
   "nbconvert_exporter": "python",
   "pygments_lexer": "ipython3",
   "version": "3.8.12"
  }
 },
 "nbformat": 4,
 "nbformat_minor": 4
}
